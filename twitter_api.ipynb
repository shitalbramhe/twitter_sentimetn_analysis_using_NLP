{
 "cells": [
  {
   "cell_type": "code",
   "execution_count": 1,
   "metadata": {},
   "outputs": [],
   "source": [
    "import tweepy\n",
    "from  textblob import TextBlob \n",
    "import pandas as pd\n"
   ]
  },
  {
   "cell_type": "code",
   "execution_count": 2,
   "metadata": {},
   "outputs": [],
   "source": [
    "api_key = \"gcEiDcE83QsDRSrx6kF05b0CT\"\n",
    "api_key_secret = \"4m553ROCTlJBJXiAlO43z4mrC1Ftgsl3RXOiiRcjhoauZk3MG3\"\n",
    "access_token = \"1507642135092559879-HZr4d68PA0962y0W8NFLSIuSIjyIAl\"\n",
    "access_token_secret = \"vvOrKp0hQERdyPiBlSq4q8bf22DpuXyBtZ8WV97f3KXBE\""
   ]
  },
  {
   "cell_type": "code",
   "execution_count": 3,
   "metadata": {},
   "outputs": [],
   "source": [
    "# authentication\n",
    "auth = tweepy.OAuthHandler(api_key, api_key_secret)\n",
    "auth.set_access_token(access_token, access_token_secret)\n",
    "api = tweepy.API(auth)"
   ]
  },
  {
   "cell_type": "code",
   "execution_count": 8,
   "metadata": {},
   "outputs": [],
   "source": [
    "tweets_search = api.search_tweets(\"dhoni\")\n"
   ]
  },
  {
   "cell_type": "code",
   "execution_count": 9,
   "metadata": {},
   "outputs": [],
   "source": [
    "# create dataframe\n",
    "columns = ['Time', 'User', 'text']\n",
    "data = []\n",
    "for tweet in tweets_search:\n",
    "    data.append([tweet.created_at, tweet.user.screen_name, tweet.text])\n",
    "\n",
    "df = pd.DataFrame(data, columns=columns)\n",
    "\n",
    "df.to_csv('tweets_file.csv')"
   ]
  },
  {
   "cell_type": "code",
   "execution_count": 10,
   "metadata": {},
   "outputs": [],
   "source": [
    "df = pd.read_csv('tweets_file.csv')"
   ]
  },
  {
   "cell_type": "code",
   "execution_count": 7,
   "metadata": {},
   "outputs": [
    {
     "data": {
      "text/html": [
       "<div>\n",
       "<style scoped>\n",
       "    .dataframe tbody tr th:only-of-type {\n",
       "        vertical-align: middle;\n",
       "    }\n",
       "\n",
       "    .dataframe tbody tr th {\n",
       "        vertical-align: top;\n",
       "    }\n",
       "\n",
       "    .dataframe thead th {\n",
       "        text-align: right;\n",
       "    }\n",
       "</style>\n",
       "<table border=\"1\" class=\"dataframe\">\n",
       "  <thead>\n",
       "    <tr style=\"text-align: right;\">\n",
       "      <th></th>\n",
       "      <th>Unnamed: 0</th>\n",
       "      <th>Time</th>\n",
       "      <th>User</th>\n",
       "      <th>text</th>\n",
       "    </tr>\n",
       "  </thead>\n",
       "  <tbody>\n",
       "    <tr>\n",
       "      <th>0</th>\n",
       "      <td>0</td>\n",
       "      <td>2022-03-31 09:18:03+00:00</td>\n",
       "      <td>Sanwal37618125</td>\n",
       "      <td>RT @narendramodi_in: इन प्रधानमंत्रियों के अधू...</td>\n",
       "    </tr>\n",
       "    <tr>\n",
       "      <th>1</th>\n",
       "      <td>1</td>\n",
       "      <td>2022-03-31 09:18:03+00:00</td>\n",
       "      <td>SJegaveerapand1</td>\n",
       "      <td>RT @karthickselvaa: TN CM MK Stalin calls on P...</td>\n",
       "    </tr>\n",
       "    <tr>\n",
       "      <th>2</th>\n",
       "      <td>2</td>\n",
       "      <td>2022-03-31 09:18:02+00:00</td>\n",
       "      <td>DeepPanji</td>\n",
       "      <td>RT @TripuraoDidi: শিক্ষার চরম দুরাবস্থার নির্দ...</td>\n",
       "    </tr>\n",
       "    <tr>\n",
       "      <th>3</th>\n",
       "      <td>3</td>\n",
       "      <td>2022-03-31 09:18:02+00:00</td>\n",
       "      <td>PMModiNews</td>\n",
       "      <td>Gujarat Assembly Election 2022: पीएम मोदी 21 अ...</td>\n",
       "    </tr>\n",
       "    <tr>\n",
       "      <th>4</th>\n",
       "      <td>4</td>\n",
       "      <td>2022-03-31 09:18:01+00:00</td>\n",
       "      <td>indiatvnews</td>\n",
       "      <td>#AFSPA areas to be reduced in Assam, Nagaland ...</td>\n",
       "    </tr>\n",
       "  </tbody>\n",
       "</table>\n",
       "</div>"
      ],
      "text/plain": [
       "   Unnamed: 0                       Time             User  \\\n",
       "0           0  2022-03-31 09:18:03+00:00   Sanwal37618125   \n",
       "1           1  2022-03-31 09:18:03+00:00  SJegaveerapand1   \n",
       "2           2  2022-03-31 09:18:02+00:00        DeepPanji   \n",
       "3           3  2022-03-31 09:18:02+00:00       PMModiNews   \n",
       "4           4  2022-03-31 09:18:01+00:00      indiatvnews   \n",
       "\n",
       "                                                text  \n",
       "0  RT @narendramodi_in: इन प्रधानमंत्रियों के अधू...  \n",
       "1  RT @karthickselvaa: TN CM MK Stalin calls on P...  \n",
       "2  RT @TripuraoDidi: শিক্ষার চরম দুরাবস্থার নির্দ...  \n",
       "3  Gujarat Assembly Election 2022: पीएम मोदी 21 अ...  \n",
       "4  #AFSPA areas to be reduced in Assam, Nagaland ...  "
      ]
     },
     "execution_count": 7,
     "metadata": {},
     "output_type": "execute_result"
    }
   ],
   "source": [
    "df.head()"
   ]
  }
 ],
 "metadata": {
  "interpreter": {
   "hash": "916dbcbb3f70747c44a77c7bcd40155683ae19c65e1c03b4aa3499c5328201f1"
  },
  "kernelspec": {
   "display_name": "Python 3.8.10 64-bit",
   "language": "python",
   "name": "python3"
  },
  "language_info": {
   "codemirror_mode": {
    "name": "ipython",
    "version": 3
   },
   "file_extension": ".py",
   "mimetype": "text/x-python",
   "name": "python",
   "nbconvert_exporter": "python",
   "pygments_lexer": "ipython3",
   "version": "3.8.10"
  },
  "orig_nbformat": 4
 },
 "nbformat": 4,
 "nbformat_minor": 2
}
